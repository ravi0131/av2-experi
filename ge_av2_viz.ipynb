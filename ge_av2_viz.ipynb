{
 "cells": [
  {
   "cell_type": "markdown",
   "metadata": {},
   "source": [
    "The purpose of this notebook is to visualize the process of estimating and removing ground for frames in av2"
   ]
  },
  {
   "cell_type": "code",
   "execution_count": 1,
   "metadata": {},
   "outputs": [],
   "source": [
    "import os\n",
    "from av2.datasets.sensor.av2_sensor_dataloader import AV2SensorDataLoader\n",
    "from pathlib import Path\n",
    "\n",
    "home = os.path.join(os.path.expanduser(\"~\"), \"buni\")\n",
    "\n",
    "dataset_path = Path(os.path.join(home, \"dataset\", \"av2\", \"train\"))\n",
    "\n",
    "av2_api = AV2SensorDataLoader(data_dir=dataset_path, labels_dir=dataset_path)\n",
    "\n",
    "scne_idx = 0 \n",
    "scene_id = av2_api.get_log_ids()[scne_idx]\n",
    "\n",
    "frame_idx = 150\n",
    "\n",
    "frame_id = av2_api.get_ordered_log_lidar_timestamps(scene_id)[frame_idx]"
   ]
  },
  {
   "cell_type": "code",
   "execution_count": 2,
   "metadata": {},
   "outputs": [],
   "source": [
    "from av2.structures.sweep import Sweep\n",
    "\n",
    "frame_path = av2_api.get_lidar_fpath_at_lidar_timestamp(scene_id, frame_id)\n",
    "\n",
    "sweep = Sweep.from_feather(frame_path)\n",
    "\n",
    "points = sweep.xyz"
   ]
  },
  {
   "cell_type": "code",
   "execution_count": 3,
   "metadata": {},
   "outputs": [],
   "source": [
    "from ground_estimator.utilities import  filter_points_in_ROI\n",
    "points_roi = filter_points_in_ROI(points, (0,40), (-20,20))\n"
   ]
  },
  {
   "cell_type": "code",
   "execution_count": 4,
   "metadata": {},
   "outputs": [
    {
     "name": "stdout",
     "output_type": "stream",
     "text": [
      "Applying DBSCAN clustering.\n",
      "DBSCAN clustering completed.\n",
      "Estimating ground height.\n",
      "Performing first round of RANSAC for ground plane fitting.\n",
      "First round of RANSAC completed.\n",
      "Performing second round of RANSAC for refined ground plane fitting.\n",
      "Final ground points identified.\n",
      "Visualizing final point clouds.\n",
      "Ground removal process completed.\n"
     ]
    },
    {
     "data": {
      "text/plain": [
       "(array([[  9.1875    , -13.1875    ,  -0.33764648],\n",
       "        [  5.015625  ,  -6.125     ,  -0.35668945],\n",
       "        [  7.69140625,  -9.5625    ,  -0.54150391],\n",
       "        ...,\n",
       "        [ 10.109375  , -13.3359375 ,  -0.36743164],\n",
       "        [  5.85546875,  -6.18359375,  -0.38598633],\n",
       "        [  8.25      ,  -9.1640625 ,  -0.46337891]]),\n",
       " array([[  9.71875   , -15.7578125 ,   1.4375    ],\n",
       "        [ 12.6328125 , -17.0625    ,  -0.12780762],\n",
       "        [  9.6484375 , -15.75      ,   1.4375    ],\n",
       "        ...,\n",
       "        [ 13.6953125 , -17.125     ,  -0.14990234],\n",
       "        [ 13.6640625 , -17.203125  ,  -0.15356445],\n",
       "        [ 13.5625    , -17.171875  ,  -0.14733887]]),\n",
       " array([[  9.71875   , -15.7578125 ,   1.4375    ,   0.        ],\n",
       "        [  9.1875    , -13.1875    ,  -0.33764648,   1.        ],\n",
       "        [ 12.6328125 , -17.0625    ,  -0.12780762,   0.        ],\n",
       "        ...,\n",
       "        [ 13.5625    , -17.171875  ,  -0.14733887,   0.        ],\n",
       "        [  5.85546875,  -6.18359375,  -0.38598633,   1.        ],\n",
       "        [  8.25      ,  -9.1640625 ,  -0.46337891,   1.        ]]))"
      ]
     },
     "execution_count": 4,
     "metadata": {},
     "output_type": "execute_result"
    }
   ],
   "source": [
    "from ground_estimator.ground_estimator import remove_ground\n",
    "\n",
    "remove_ground(points, points_roi,visualize=True)\n"
   ]
  },
  {
   "cell_type": "code",
   "execution_count": 5,
   "metadata": {},
   "outputs": [
    {
     "name": "stdout",
     "output_type": "stream",
     "text": [
      "Applying DBSCAN clustering.\n",
      "DBSCAN clustering completed.\n",
      "Estimating ground height.\n",
      "Performing first round of RANSAC for ground plane fitting.\n",
      "First round of RANSAC completed.\n",
      "Performing second round of RANSAC for refined ground plane fitting.\n",
      "Final ground points identified.\n",
      "Visualizing final point clouds.\n",
      "Ground removal process completed.\n"
     ]
    },
    {
     "data": {
      "text/plain": [
       "(array([[  9.1875    , -13.1875    ,  -0.33764648],\n",
       "        [  5.015625  ,  -6.125     ,  -0.35668945],\n",
       "        [  7.69140625,  -9.5625    ,  -0.54150391],\n",
       "        ...,\n",
       "        [ 10.109375  , -13.3359375 ,  -0.36743164],\n",
       "        [  5.85546875,  -6.18359375,  -0.38598633],\n",
       "        [  8.25      ,  -9.1640625 ,  -0.46337891]]),\n",
       " array([[  9.71875   , -15.7578125 ,   1.4375    ],\n",
       "        [ 12.6328125 , -17.0625    ,  -0.12780762],\n",
       "        [  9.6484375 , -15.75      ,   1.4375    ],\n",
       "        ...,\n",
       "        [ 13.6953125 , -17.125     ,  -0.14990234],\n",
       "        [ 13.6640625 , -17.203125  ,  -0.15356445],\n",
       "        [ 13.5625    , -17.171875  ,  -0.14733887]]),\n",
       " array([[  9.71875   , -15.7578125 ,   1.4375    ,   0.        ],\n",
       "        [  9.1875    , -13.1875    ,  -0.33764648,   1.        ],\n",
       "        [ 12.6328125 , -17.0625    ,  -0.12780762,   0.        ],\n",
       "        ...,\n",
       "        [ 13.5625    , -17.171875  ,  -0.14733887,   0.        ],\n",
       "        [  5.85546875,  -6.18359375,  -0.38598633,   1.        ],\n",
       "        [  8.25      ,  -9.1640625 ,  -0.46337891,   1.        ]]))"
      ]
     },
     "execution_count": 5,
     "metadata": {},
     "output_type": "execute_result"
    }
   ],
   "source": [
    "remove_ground(points, points_roi,visualize=True,percentile=30)"
   ]
  },
  {
   "cell_type": "code",
   "execution_count": 19,
   "metadata": {},
   "outputs": [
    {
     "name": "stdout",
     "output_type": "stream",
     "text": [
      "Applying DBSCAN clustering.\n",
      "DBSCAN clustering completed.\n",
      "Estimating ground height.\n",
      "Performing first round of RANSAC for ground plane fitting.\n",
      "First round of RANSAC completed.\n",
      "Performing second round of RANSAC for refined ground plane fitting.\n",
      "Final ground points identified.\n",
      "Visualizing final point clouds.\n",
      "Ground removal process completed.\n"
     ]
    },
    {
     "data": {
      "text/plain": [
       "(array([[  9.1875    , -13.1875    ,  -0.33764648],\n",
       "        [  5.015625  ,  -6.125     ,  -0.35668945],\n",
       "        [  7.69140625,  -9.5625    ,  -0.54150391],\n",
       "        ...,\n",
       "        [ 10.109375  , -13.3359375 ,  -0.36743164],\n",
       "        [  5.85546875,  -6.18359375,  -0.38598633],\n",
       "        [  8.25      ,  -9.1640625 ,  -0.46337891]]),\n",
       " array([[  9.71875   , -15.7578125 ,   1.4375    ],\n",
       "        [ 12.6328125 , -17.0625    ,  -0.12780762],\n",
       "        [  9.6484375 , -15.75      ,   1.4375    ],\n",
       "        ...,\n",
       "        [ 13.6953125 , -17.125     ,  -0.14990234],\n",
       "        [ 13.6640625 , -17.203125  ,  -0.15356445],\n",
       "        [ 13.5625    , -17.171875  ,  -0.14733887]]),\n",
       " array([[  9.71875   , -15.7578125 ,   1.4375    ,   0.        ],\n",
       "        [  9.1875    , -13.1875    ,  -0.33764648,   1.        ],\n",
       "        [ 12.6328125 , -17.0625    ,  -0.12780762,   0.        ],\n",
       "        ...,\n",
       "        [ 13.5625    , -17.171875  ,  -0.14733887,   0.        ],\n",
       "        [  5.85546875,  -6.18359375,  -0.38598633,   1.        ],\n",
       "        [  8.25      ,  -9.1640625 ,  -0.46337891,   1.        ]]))"
      ]
     },
     "execution_count": 19,
     "metadata": {},
     "output_type": "execute_result"
    }
   ],
   "source": [
    "remove_ground(points, points_roi,visualize=True,percentile=30, ransac_min_samples=1000)"
   ]
  },
  {
   "cell_type": "markdown",
   "metadata": {},
   "source": [
    "CONCLUSION\n",
    "\n",
    "+ There is little difference in estimating ground with ranasac_min_samples=1000 vs ransac_min_samples=100\n",
    "+ There is a not much  difference between percentile=50 vs percentile=30"
   ]
  }
 ],
 "metadata": {
  "kernelspec": {
   "display_name": "pixo",
   "language": "python",
   "name": "python3"
  },
  "language_info": {
   "codemirror_mode": {
    "name": "ipython",
    "version": 3
   },
   "file_extension": ".py",
   "mimetype": "text/x-python",
   "name": "python",
   "nbconvert_exporter": "python",
   "pygments_lexer": "ipython3",
   "version": "3.8.18"
  }
 },
 "nbformat": 4,
 "nbformat_minor": 2
}
