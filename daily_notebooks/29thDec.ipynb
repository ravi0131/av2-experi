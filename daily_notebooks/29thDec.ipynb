{
 "cells": [
  {
   "cell_type": "code",
   "execution_count": 2,
   "metadata": {},
   "outputs": [
    {
     "data": {
      "text/plain": [
       "torch.Size([1, 7, 200, 175])"
      ]
     },
     "execution_count": 2,
     "metadata": {},
     "output_type": "execute_result"
    }
   ],
   "source": [
    "import torch\n",
    "\n",
    "tensor = torch.randn(1, 7, 200, 175)\n",
    "\n",
    "tensor.size()"
   ]
  },
  {
   "cell_type": "code",
   "execution_count": 6,
   "metadata": {},
   "outputs": [
    {
     "data": {
      "text/plain": [
       "4"
      ]
     },
     "execution_count": 6,
     "metadata": {},
     "output_type": "execute_result"
    }
   ],
   "source": [
    "len(tensor.size())"
   ]
  },
  {
   "cell_type": "code",
   "execution_count": 10,
   "metadata": {},
   "outputs": [
    {
     "data": {
      "text/plain": [
       "(4,)"
      ]
     },
     "execution_count": 10,
     "metadata": {},
     "output_type": "execute_result"
    }
   ],
   "source": [
    "import numpy as np\n",
    "\n",
    "arr = np.array([1, 2, 3, 4])\n",
    "\n",
    "arr.shape"
   ]
  },
  {
   "cell_type": "code",
   "execution_count": 11,
   "metadata": {},
   "outputs": [
    {
     "data": {
      "text/plain": [
       "10000000000.0"
      ]
     },
     "execution_count": 11,
     "metadata": {},
     "output_type": "execute_result"
    }
   ],
   "source": [
    "np.float32(1e10)"
   ]
  },
  {
   "cell_type": "code",
   "execution_count": 16,
   "metadata": {},
   "outputs": [
    {
     "name": "stdout",
     "output_type": "stream",
     "text": [
      "-2147483648\n"
     ]
    },
    {
     "name": "stderr",
     "output_type": "stream",
     "text": [
      "C:\\Users\\Ravi\\AppData\\Local\\Temp\\ipykernel_7616\\2076417899.py:3: RuntimeWarning: invalid value encountered in cast\n",
      "  converted_int = large_float.astype(int)\n"
     ]
    }
   ],
   "source": [
    "import numpy as np\n",
    "large_float = np.float32(1e10)\n",
    "converted_int = large_float.astype(int)\n",
    "print(converted_int)  # Output: 1410065408 (overflow)\n"
   ]
  },
  {
   "cell_type": "code",
   "execution_count": 23,
   "metadata": {},
   "outputs": [
    {
     "data": {
      "text/plain": [
       "-9.05679e+31"
      ]
     },
     "execution_count": 23,
     "metadata": {},
     "output_type": "execute_result"
    }
   ],
   "source": [
    "np.float64(-9.05679e+31)"
   ]
  },
  {
   "cell_type": "code",
   "execution_count": 24,
   "metadata": {},
   "outputs": [
    {
     "name": "stderr",
     "output_type": "stream",
     "text": [
      "C:\\Users\\Ravi\\AppData\\Local\\Temp\\ipykernel_7616\\2657477926.py:1: RuntimeWarning: invalid value encountered in cast\n",
      "  np.float64(-9.05679e+31).astype(int)\n"
     ]
    },
    {
     "data": {
      "text/plain": [
       "-2147483648"
      ]
     },
     "execution_count": 24,
     "metadata": {},
     "output_type": "execute_result"
    }
   ],
   "source": [
    "np.float64(-9.05679e+31).astype(int)"
   ]
  },
  {
   "cell_type": "code",
   "execution_count": 25,
   "metadata": {},
   "outputs": [
    {
     "name": "stdout",
     "output_type": "stream",
     "text": [
      "int32 range: -2147483648 to 2147483647\n",
      "Clipped plot_corners:\n",
      "[[ 2.14748365e+09 -2.14748365e+09]\n",
      " [ 2.14748365e+09 -2.14748365e+09]\n",
      " [ 2.14748365e+09 -2.14748365e+09]\n",
      " [ 1.00000000e+05 -1.00000000e+05]]\n",
      "Converted to int32:\n",
      "[[ 2147483647 -2147483648]\n",
      " [ 2147483647 -2147483648]\n",
      " [ 2147483647 -2147483648]\n",
      " [     100000     -100000]]\n"
     ]
    }
   ],
   "source": [
    "import numpy as np\n",
    "\n",
    "# Get the range for int32\n",
    "int32_min = np.iinfo(np.int32).min\n",
    "int32_max = np.iinfo(np.int32).max\n",
    "\n",
    "# Print the range\n",
    "print(f\"int32 range: {int32_min} to {int32_max}\")\n",
    "\n",
    "# Example: Clip values to the int32 range\n",
    "plot_corners = np.array([\n",
    "    [1e20, -1e20],\n",
    "    [1e10, -1e10],\n",
    "    [9.05679e+31, -3.34445e+31],\n",
    "    [1e5, -1e5]\n",
    "], dtype=np.float64)  # Use a high precision float to simulate large values\n",
    "\n",
    "# Clip values to fit within int32 range\n",
    "plot_corners_clipped = np.clip(plot_corners, int32_min, int32_max)\n",
    "\n",
    "# Convert to int32\n",
    "plot_corners_int32 = plot_corners_clipped.astype(np.int32)\n",
    "\n",
    "# Print results\n",
    "print(\"Clipped plot_corners:\")\n",
    "print(plot_corners_clipped)\n",
    "\n",
    "print(\"Converted to int32:\")\n",
    "print(plot_corners_int32)\n"
   ]
  }
 ],
 "metadata": {
  "kernelspec": {
   "display_name": "pixo",
   "language": "python",
   "name": "python3"
  },
  "language_info": {
   "codemirror_mode": {
    "name": "ipython",
    "version": 3
   },
   "file_extension": ".py",
   "mimetype": "text/x-python",
   "name": "python",
   "nbconvert_exporter": "python",
   "pygments_lexer": "ipython3",
   "version": "3.8.18"
  }
 },
 "nbformat": 4,
 "nbformat_minor": 2
}
