{
 "cells": [
  {
   "cell_type": "code",
   "execution_count": 13,
   "metadata": {},
   "outputs": [],
   "source": [
    "import os\n",
    "\n",
    "home = os.path.expanduser(\"~\")\n",
    "ge_data_dir = os.path.join(home, 'buni', 'output-data', 'av2', 'test_ge_script')\n",
    "output_dir = os.path.join(home, 'buni', 'output-data', 'av2', 'test_bbox_script')\n",
    "\n",
    "# Create list of scene tuples for parallel processing\n",
    "scene_tuples = [\n",
    "    (os.path.join(ge_data_dir, scene), output_dir)\n",
    "    for scene in os.listdir(ge_data_dir)\n",
    "]\n",
    "\n",
    "scene_count = 10 # CONFIG PARAMETER: Number of scenes to process\n",
    "scene_tuples = scene_tuples[:scene_count]"
   ]
  },
  {
   "cell_type": "code",
   "execution_count": null,
   "metadata": {},
   "outputs": [],
   "source": [
    "scene_path, output_dir = scene_tuples[0]"
   ]
  },
  {
   "cell_type": "code",
   "execution_count": 31,
   "metadata": {},
   "outputs": [
    {
     "name": "stdout",
     "output_type": "stream",
     "text": [
      "C:\\Users\\Ravi\\buni\\output-data\\av2\\test_ge_script\\ff52c01e-3d7b-32b1-b6a1-bcff3459ccdd\n"
     ]
    },
    {
     "data": {
      "text/plain": [
       "'C:\\\\Users\\\\Ravi\\\\buni\\\\output-data\\\\av2\\\\test_ge_script\\\\ff52c01e-3d7b-32b1-b6a1-bcff3459ccdd\\\\315968335160099000.feather'"
      ]
     },
     "execution_count": 31,
     "metadata": {},
     "output_type": "execute_result"
    }
   ],
   "source": [
    "print(scene_path)\n",
    "frame = os.listdir(scene_path)[0]\n",
    "f_path = os.path.join(scene_path, frame)\n",
    "os.path.isdir(f_path)\n",
    "f_path"
   ]
  },
  {
   "cell_type": "code",
   "execution_count": 30,
   "metadata": {},
   "outputs": [
    {
     "data": {
      "text/plain": [
       "'ff52c01e-3d7b-32b1-b6a1-bcff3459ccdd'"
      ]
     },
     "execution_count": 30,
     "metadata": {},
     "output_type": "execute_result"
    }
   ],
   "source": [
    "os.path.basename(scene_path)"
   ]
  },
  {
   "cell_type": "code",
   "execution_count": 32,
   "metadata": {},
   "outputs": [],
   "source": [
    "CONFIG = {\n",
    "    \"ROI\": False,\n",
    "    \"GE_RANGE\": {\n",
    "        \"x_range\": (0, 40),\n",
    "        \"y_range\": (-20, 20)\n",
    "    },\n",
    "    \"SCENE_COUNT\": 10,\n",
    "}"
   ]
  },
  {
   "cell_type": "code",
   "execution_count": 36,
   "metadata": {},
   "outputs": [
    {
     "name": "stdout",
     "output_type": "stream",
     "text": [
      "(0, 40) (-20, 20)\n"
     ]
    }
   ],
   "source": [
    "def foo(x_range, y_range): \n",
    "    print(x_range, y_range)\n",
    "    \n",
    "    \n",
    "foo(**CONFIG['GE_RANGE'])"
   ]
  }
 ],
 "metadata": {
  "kernelspec": {
   "display_name": "av2torchv",
   "language": "python",
   "name": "python3"
  },
  "language_info": {
   "codemirror_mode": {
    "name": "ipython",
    "version": 3
   },
   "file_extension": ".py",
   "mimetype": "text/x-python",
   "name": "python",
   "nbconvert_exporter": "python",
   "pygments_lexer": "ipython3",
   "version": "3.8.20"
  }
 },
 "nbformat": 4,
 "nbformat_minor": 2
}
