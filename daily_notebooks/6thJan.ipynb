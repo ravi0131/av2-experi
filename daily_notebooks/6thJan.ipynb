{
 "cells": [
  {
   "cell_type": "code",
   "execution_count": 1,
   "metadata": {},
   "outputs": [],
   "source": [
    "import sys\n",
    "import os\n",
    "\n",
    "# Add the src directory to the Python path\n",
    "sys.path.append(os.path.abspath(\"..\"))"
   ]
  },
  {
   "cell_type": "code",
   "execution_count": 2,
   "metadata": {},
   "outputs": [
    {
     "data": {
      "text/plain": [
       "['ground.feather', 'non_ground.feather']"
      ]
     },
     "execution_count": 2,
     "metadata": {},
     "output_type": "execute_result"
    }
   ],
   "source": [
    "import os\n",
    "from av2.datasets.sensor.av2_sensor_dataloader import AV2SensorDataLoader\n",
    "from pathlib import Path\n",
    "\n",
    "home = os.path.join(os.path.expanduser(\"~\"), \"buni\")\n",
    "\n",
    "scene_idx = 0\n",
    "frame_idx = 0\n",
    "output_dir = os.path.join(home, \"output-data\",\"av2\", \"test_ge_script\")\n",
    "scene_id = os.listdir(output_dir)[scene_idx]\n",
    "\n",
    "frame_id = os.listdir(os.path.join(output_dir, scene_id))[0]\n",
    "\n",
    "os.listdir(os.path.join(output_dir, scene_id, frame_id))"
   ]
  },
  {
   "cell_type": "code",
   "execution_count": null,
   "metadata": {},
   "outputs": [],
   "source": [
    "import pandas as pd\n",
    "\n",
    "\n",
    "ground = pd.read_feather(os.path.join(output_dir, scene_id, frame_id, \"ground.feather\")).to_numpy()\n",
    "non_ground = pd.read_feather(os.path.join(output_dir, scene_id, frame_id, \"non_ground.feather\")).to_numpy()    "
   ]
  },
  {
   "cell_type": "code",
   "execution_count": 11,
   "metadata": {},
   "outputs": [],
   "source": [
    "from prototype_utils import visualize_point_cloud\n",
    "\n",
    "visualize_point_cloud(non_ground)"
   ]
  }
 ],
 "metadata": {
  "kernelspec": {
   "display_name": "pixo",
   "language": "python",
   "name": "python3"
  },
  "language_info": {
   "codemirror_mode": {
    "name": "ipython",
    "version": 3
   },
   "file_extension": ".py",
   "mimetype": "text/x-python",
   "name": "python",
   "nbconvert_exporter": "python",
   "pygments_lexer": "ipython3",
   "version": "3.8.18"
  }
 },
 "nbformat": 4,
 "nbformat_minor": 2
}
