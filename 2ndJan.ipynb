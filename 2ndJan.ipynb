{
 "cells": [
  {
   "cell_type": "code",
   "execution_count": 1,
   "metadata": {},
   "outputs": [],
   "source": [
    "from typing import List, Tuple\n",
    "from dataclasses import dataclass\n",
    "\n",
    "@dataclass\n",
    "class Detection:\n",
    "    value: int\n",
    "\n",
    "@dataclass\n",
    "class Tracklet:\n",
    "    value: int\n",
    "\n",
    "class OnlineTracker:\n",
    "    def __init__(self):\n",
    "        self.tracklets: List[Tracklet] = []\n",
    "        self.detections: List[Detection] = []\n",
    "        \n",
    "    def add_tracklet(self, tracklet_idx: float) -> None:\n",
    "        self.tracklets.append(Tracklet(tracklet_idx))\n",
    "    \n",
    "    def add_detection(self, detection_idx: float) -> None:\n",
    "        self.detections.append(Detection(detection_idx))\n",
    "        \n",
    "    def update_tracklets(self, tracklet_idx: int, det_idx: int, value) -> None:\n",
    "        tracklet, detection = self.tracklets[tracklet_idx], self.detections[det_idx]        \n",
    "        tracklet.value = value\n",
    "        detection.value = value\n",
    "        "
   ]
  },
  {
   "cell_type": "code",
   "execution_count": 2,
   "metadata": {},
   "outputs": [],
   "source": [
    "tracker = OnlineTracker()\n",
    "import copy \n",
    "\n",
    "tracker.add_tracklet(1)\n",
    "tracker.add_detection(1)\n",
    "\n",
    "tracklet_lst = copy.deepcopy(tracker.tracklets)\n",
    "tracklet_lst_ref = tracker.tracklets"
   ]
  },
  {
   "cell_type": "code",
   "execution_count": 3,
   "metadata": {},
   "outputs": [],
   "source": [
    "def foo(tracklet_lst: List[Tracklet]) -> None:\n",
    "    tracklet_lst[0].value = 10\n",
    "    \n",
    "tracklet_lst.append(Tracklet(2))"
   ]
  },
  {
   "cell_type": "code",
   "execution_count": 4,
   "metadata": {},
   "outputs": [],
   "source": [
    "foo(tracklet_lst)"
   ]
  },
  {
   "cell_type": "code",
   "execution_count": 7,
   "metadata": {},
   "outputs": [
    {
     "data": {
      "text/plain": [
       "[Tracklet(value=1)]"
      ]
     },
     "execution_count": 7,
     "metadata": {},
     "output_type": "execute_result"
    }
   ],
   "source": [
    "tracker.tracklets"
   ]
  }
 ],
 "metadata": {
  "kernelspec": {
   "display_name": "av2torchv",
   "language": "python",
   "name": "python3"
  },
  "language_info": {
   "codemirror_mode": {
    "name": "ipython",
    "version": 3
   },
   "file_extension": ".py",
   "mimetype": "text/x-python",
   "name": "python",
   "nbconvert_exporter": "python",
   "pygments_lexer": "ipython3",
   "version": "3.8.20"
  }
 },
 "nbformat": 4,
 "nbformat_minor": 2
}
