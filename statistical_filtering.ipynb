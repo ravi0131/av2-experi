{
 "cells": [
  {
   "cell_type": "code",
   "execution_count": 22,
   "metadata": {},
   "outputs": [],
   "source": [
    "import os\n",
    "\n",
    "home = os.path.join(os.path.expanduser('~'), \"buni\")\n",
    "\n",
    "pseudo_labels_dir = os.path.join(home, \"output-data\", \"av2\", \"test_bbox_script\")\n",
    "\n",
    "\n",
    "scene_idx = 0\n",
    "frame_idx = 100\n",
    "\n",
    "scene_id = os.listdir(pseudo_labels_dir)[scene_idx]\n",
    "frame_id = os.listdir(os.path.join(pseudo_labels_dir, scene_id))[frame_idx]"
   ]
  },
  {
   "cell_type": "code",
   "execution_count": 23,
   "metadata": {},
   "outputs": [],
   "source": [
    "from av2.datasets.sensor.av2_sensor_dataloader import AV2SensorDataLoader\n",
    "from pathlib import Path\n",
    "from av2.structures.sweep import Sweep\n",
    "dataset_path = Path(os.path.join(home, \"dataset\", \"av2\", \"train\"))\n",
    "av2_api = AV2SensorDataLoader(data_dir=dataset_path, labels_dir=dataset_path)\n",
    "\n",
    "frame_path = av2_api.get_lidar_fpath_at_lidar_timestamp(scene_id, frame_id.split(\".\")[0])\n",
    "sweep = Sweep.from_feather(frame_path)\n",
    "points = sweep.xyz"
   ]
  },
  {
   "cell_type": "code",
   "execution_count": 24,
   "metadata": {},
   "outputs": [],
   "source": [
    "from prototype_utils import filter_roi\n",
    "\n",
    "poins_roi = filter_roi(points)"
   ]
  },
  {
   "cell_type": "code",
   "execution_count": null,
   "metadata": {},
   "outputs": [],
   "source": [
    "from prototype_utils import plot_bev\n",
    "# plot_bev(poins_roi)"
   ]
  }
 ],
 "metadata": {
  "kernelspec": {
   "display_name": "av2torchv",
   "language": "python",
   "name": "python3"
  },
  "language_info": {
   "codemirror_mode": {
    "name": "ipython",
    "version": 3
   },
   "file_extension": ".py",
   "mimetype": "text/x-python",
   "name": "python",
   "nbconvert_exporter": "python",
   "pygments_lexer": "ipython3",
   "version": "3.8.20"
  }
 },
 "nbformat": 4,
 "nbformat_minor": 2
}
