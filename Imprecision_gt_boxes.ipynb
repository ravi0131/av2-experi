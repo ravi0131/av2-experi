{
 "cells": [
  {
   "cell_type": "markdown",
   "metadata": {},
   "source": [
    "I am losing precision from loading directly from the .feather file. \n",
    "Thus instead of loading diretly from there, the idea is to instantiate a sweep file and then get its data. \n",
    "\n",
    "The only problem is that I don't know if the points in a sweep and its laser_ids and intensity values have 1-1 correspondence. So I will test this out using this notebook"
   ]
  },
  {
   "cell_type": "code",
   "execution_count": 1,
   "metadata": {},
   "outputs": [
    {
     "name": "stdout",
     "output_type": "stream",
     "text": [
      "['ff6adc87-5f47-32f7-b36a-546453c0e332']\n",
      "[315968449159644000]\n"
     ]
    }
   ],
   "source": [
    "import os\n",
    "from av2.datasets.sensor.av2_sensor_dataloader import AV2SensorDataLoader\n",
    "from pathlib import Path\n",
    "home = os.path.expanduser(\"~\")\n",
    "\n",
    "dataset_path = os.path.join(home, \"buni\", \"dataset\", \"av2-pixor\", \"overfit\", \"train\")\n",
    "dataset_path = Path(dataset_path)\n",
    "dataloader = AV2SensorDataLoader(data_dir=dataset_path, labels_dir=dataset_path)\n",
    "\n",
    "log_id = 'ff6adc87-5f47-32f7-b36a-546453c0e332'\n",
    "\n",
    "print(dataloader.get_log_ids())\n",
    "print(dataloader.get_ordered_log_lidar_timestamps(log_id))"
   ]
  },
  {
   "cell_type": "code",
   "execution_count": 2,
   "metadata": {},
   "outputs": [],
   "source": [
    "timestamp = 315968449159644000\n",
    "frame_path = dataloader.get_lidar_fpath(log_id,timestamp)\n",
    "\n",
    "import pandas as pd\n",
    "\n",
    "df = pd.read_feather(frame_path)"
   ]
  },
  {
   "cell_type": "code",
   "execution_count": 3,
   "metadata": {},
   "outputs": [
    {
     "name": "stdout",
     "output_type": "stream",
     "text": [
      "points shape: (96884, 3) | intensities shape: (96884,) | laser_numbers shape: (96884,)\n"
     ]
    }
   ],
   "source": [
    "from av2.structures.sweep import Sweep\n",
    "\n",
    "sweep = Sweep.from_feather(frame_path)\n",
    "\n",
    "points = sweep.xyz\n",
    "intensities = sweep.intensity\n",
    "laser_numbers = sweep.laser_number\n",
    "\n",
    "print(f\"points shape: {points.shape} | intensities shape: {intensities.shape} | laser_numbers shape: {laser_numbers.shape}\")"
   ]
  },
  {
   "cell_type": "code",
   "execution_count": 4,
   "metadata": {},
   "outputs": [
    {
     "name": "stdout",
     "output_type": "stream",
     "text": [
      "frame_final shape: (96884, 5)\n"
     ]
    }
   ],
   "source": [
    "import numpy as np\n",
    "frame_final = np.column_stack((points, intensities, laser_numbers))\n",
    "\n",
    "print(f\"frame_final shape: {frame_final.shape}\")"
   ]
  },
  {
   "cell_type": "code",
   "execution_count": 5,
   "metadata": {},
   "outputs": [
    {
     "name": "stdout",
     "output_type": "stream",
     "text": [
      "[[ 1  2  3 10 13]\n",
      " [ 4  5  6 11 14]\n",
      " [ 7  8  9 12 15]]\n"
     ]
    }
   ],
   "source": [
    "import numpy as np\n",
    "\n",
    "# Example arrays\n",
    "array1 = np.array([[1, 2, 3], [4, 5, 6], [7, 8, 9]])\n",
    "array2 = np.array([10, 11, 12])\n",
    "array3 = np.array([13, 14, 15])\n",
    "\n",
    "# Adding array2 and array3 as columns to array1\n",
    "result = np.column_stack((array1, array2, array3))\n",
    "\n",
    "print(result)"
   ]
  },
  {
   "cell_type": "markdown",
   "metadata": {},
   "source": [
    "# Conclusion\n",
    "\n",
    "With this I conclude that it is better to instantiate sweep and then create a numpy array than using a pandas dataframe"
   ]
  }
 ],
 "metadata": {
  "kernelspec": {
   "display_name": "pixo",
   "language": "python",
   "name": "python3"
  },
  "language_info": {
   "codemirror_mode": {
    "name": "ipython",
    "version": 3
   },
   "file_extension": ".py",
   "mimetype": "text/x-python",
   "name": "python",
   "nbconvert_exporter": "python",
   "pygments_lexer": "ipython3",
   "version": "3.8.18"
  }
 },
 "nbformat": 4,
 "nbformat_minor": 2
}
