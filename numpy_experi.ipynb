{
 "cells": [
  {
   "cell_type": "code",
   "execution_count": null,
   "metadata": {},
   "outputs": [],
   "source": [
    "import numpy as np\n",
    "\n",
    "# Example data\n",
    "reg_map = np.arange(3*3*5).reshape(3, 3, 5) "
   ]
  },
  {
   "cell_type": "code",
   "execution_count": null,
   "metadata": {},
   "outputs": [],
   "source": [
    "# a 2d numpy array of shape 3,3 consisting of values either 0 or 1 chosen randomly\n",
    "cls_map = np.random.choice([0, 1], size=(3, 3))\n",
    "cls_map"
   ]
  },
  {
   "cell_type": "code",
   "execution_count": null,
   "metadata": {},
   "outputs": [],
   "source": [
    "# filtered_reg_map = reg_map[cls_map.astype(bool)]\n",
    "filtered_reg_map = reg_map[np.nonzero(cls_map)]\n",
    "print(filtered_reg_map)\n",
    "print(\"\")\n",
    "print(filtered_reg_map.shape)"
   ]
  },
  {
   "cell_type": "code",
   "execution_count": null,
   "metadata": {},
   "outputs": [],
   "source": [
    "sum_labels = np.zeros(5)\n",
    "sum_labels += np.sum(filtered_reg_map, axis=0)\n",
    "print(sum_labels)"
   ]
  },
  {
   "cell_type": "code",
   "execution_count": null,
   "metadata": {},
   "outputs": [],
   "source": [
    "import numpy as np\n",
    "\n",
    "# Example filtered_reg_map with 3 positive pixels and 2 regression channels\n",
    "filtered_reg_map = np.array([[1.0, 2.0],\n",
    "                             [3.0, 4.0],\n",
    "                             [5.0, 6.0]])\n",
    "\n",
    "# Sum along axis 0\n",
    "sum_result = np.sum(filtered_reg_map, axis=0)\n",
    "print(f\"sum_result{sum_result}\")  # Output: [9.0, 12.0]\n",
    "count = filtered_reg_map.shape[0]\n",
    "mean = sum_result / count\n",
    "print(f\"mean{mean}\")  # Output: [3.0, 4.0]\n",
    "std_dev = np.sqrt((np.sum(filtered_reg_map**2, axis=0))/count - mean**2)\n",
    "print(f\"std_dev{std_dev}\")  # Output: [1.63299316, 1.63299316] \n"
   ]
  },
  {
   "cell_type": "code",
   "execution_count": 4,
   "metadata": {},
   "outputs": [],
   "source": [
    "import numpy as np\n",
    "\n",
    "corners = np.load(\"filtered_corners_61.npy\")\n",
    "cls_map = np.load(\"cls_pred_61.npy\")"
   ]
  },
  {
   "cell_type": "code",
   "execution_count": null,
   "metadata": {},
   "outputs": [],
   "source": [
    "import numpy as np\n",
    "\n",
    "def filter_invalid_bboxes(corners: np.ndarray) -> np.ndarray:\n",
    "    \"\"\"\n",
    "    Filters out bounding boxes (4x2 arrays) with any `inf` or `nan` values.\n",
    "\n",
    "    :param corners: A numpy array of shape (N, 4, 2), where N is the number of bboxes.\n",
    "    :return: A filtered numpy array containing only valid bboxes.\n",
    "    \"\"\"\n",
    "    # Check if any element in each bbox contains `inf` or `nan`\n",
    "    valid_mask = ~np.any(np.isnan(corners) | np.isinf(corners), axis=(1, 2))\n",
    "    \n",
    "    # Filter corners to only include valid bboxes\n",
    "    filtered_corners = corners[valid_mask]\n",
    "    \n",
    "    return filtered_corners\n"
   ]
  },
  {
   "cell_type": "code",
   "execution_count": null,
   "metadata": {},
   "outputs": [],
   "source": [
    "filtered_corners = filter_invalid_bboxes(corners)"
   ]
  },
  {
   "cell_type": "code",
   "execution_count": null,
   "metadata": {},
   "outputs": [],
   "source": [
    "filtered_corners.shape"
   ]
  },
  {
   "cell_type": "code",
   "execution_count": null,
   "metadata": {},
   "outputs": [],
   "source": [
    "from shapely.geometry import Polygon\n",
    "def convert_format(boxes_array: np.ndarray) -> np.ndarray:\n",
    "    # boxes_array is a numpy array of shape (N, 4, 2)\n",
    "    polygons = []\n",
    "    err_idxs = []\n",
    "    for idx, box in enumerate(boxes_array):\n",
    "        try: \n",
    "            polygon = Polygon([(point[0], point[1]) for point in box] + [(box[0, 0], box[0, 1])])\n",
    "            polygons.append(polygon)\n",
    "        except Exception as e:\n",
    "            print(f\"Error converting bbox at index {idx}: {e}\")\n",
    "            err_idxs.append(idx)\n",
    "                            \n",
    "    return np.array(polygons), err_idxs\n",
    "\n",
    "lst_polygons, err_idxs = convert_format(filtered_corners)"
   ]
  },
  {
   "cell_type": "code",
   "execution_count": null,
   "metadata": {},
   "outputs": [],
   "source": [
    "type(lst_polygons[0])"
   ]
  },
  {
   "cell_type": "code",
   "execution_count": 2,
   "metadata": {},
   "outputs": [
    {
     "data": {
      "text/plain": [
       "9"
      ]
     },
     "execution_count": 2,
     "metadata": {},
     "output_type": "execute_result"
    }
   ],
   "source": [
    "import numpy as np\n",
    "arr = np.arange(3*3).reshape(3, 3)\n",
    "arr.size "
   ]
  }
 ],
 "metadata": {
  "kernelspec": {
   "display_name": "pixo",
   "language": "python",
   "name": "python3"
  },
  "language_info": {
   "codemirror_mode": {
    "name": "ipython",
    "version": 3
   },
   "file_extension": ".py",
   "mimetype": "text/x-python",
   "name": "python",
   "nbconvert_exporter": "python",
   "pygments_lexer": "ipython3",
   "version": "3.8.18"
  }
 },
 "nbformat": 4,
 "nbformat_minor": 2
}
