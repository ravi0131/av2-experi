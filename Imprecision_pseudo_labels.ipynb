{
 "cells": [
  {
   "cell_type": "markdown",
   "metadata": {},
   "source": [
    "I am losing precision from loading directly from the .feather file. \n",
    "Thus instead of loading diretly from there, the idea is to instantiate a sweep file and then get its data. \n",
    "\n",
    "The only problem is that I don't know if the points in a sweep and its laser_ids and intensity values have 1-1 correspondence. So I will test this out using this notebook"
   ]
  },
  {
   "cell_type": "code",
   "execution_count": 1,
   "metadata": {},
   "outputs": [
    {
     "name": "stdout",
     "output_type": "stream",
     "text": [
      "ff52c01e-3d7b-32b1-b6a1-bcff3459ccdd\n",
      "C:\\Users\\Ravi\\buni\\output-data\\av2\\bbox-estimation\\ff52c01e-3d7b-32b1-b6a1-bcff3459ccdd\n",
      "C:\\Users\\Ravi\\buni\\output-data\\av2\\bbox-estimation\\ff52c01e-3d7b-32b1-b6a1-bcff3459ccdd\\315968335160099000.feather\n"
     ]
    }
   ],
   "source": [
    "import os\n",
    "import pandas as pd\n",
    "home = os.path.expanduser(\"~\")\n",
    "\n",
    "data_dir = os.path.join(home,\"buni\", \"output-data\",\"av2\", \"bbox-estimation\")\n",
    "\n",
    "scene_idx = 0\n",
    "scene_id = os.listdir(data_dir)[scene_idx]\n",
    "\n",
    "scene_path = os.path.join(data_dir, scene_id)\n",
    "\n",
    "print(scene_id)\n",
    "print(scene_path)\n",
    "\n",
    "\n",
    "print(os.path.join(scene_path, os.listdir(scene_path)[0]))\n"
   ]
  },
  {
   "cell_type": "code",
   "execution_count": 2,
   "metadata": {},
   "outputs": [],
   "source": [
    "\n",
    "test_df = pd.read_feather(os.path.join(scene_path, os.listdir(scene_path)[0]))"
   ]
  },
  {
   "cell_type": "code",
   "execution_count": 3,
   "metadata": {},
   "outputs": [],
   "source": [
    "#covert test_df to numpy\n",
    "test_np = test_df.to_numpy()\n"
   ]
  },
  {
   "cell_type": "code",
   "execution_count": 5,
   "metadata": {},
   "outputs": [
    {
     "data": {
      "text/plain": [
       "dtype('float64')"
      ]
     },
     "execution_count": 5,
     "metadata": {},
     "output_type": "execute_result"
    }
   ],
   "source": [
    "test_np.dtype"
   ]
  },
  {
   "cell_type": "markdown",
   "metadata": {},
   "source": [
    "# Conclusion\n",
    "\n",
    "With this I conclude that the dataframes saved for pseudo-labels are ok to import from .feather files as they are stored in float64"
   ]
  }
 ],
 "metadata": {
  "kernelspec": {
   "display_name": "pixo",
   "language": "python",
   "name": "python3"
  },
  "language_info": {
   "codemirror_mode": {
    "name": "ipython",
    "version": 3
   },
   "file_extension": ".py",
   "mimetype": "text/x-python",
   "name": "python",
   "nbconvert_exporter": "python",
   "pygments_lexer": "ipython3",
   "version": "3.8.18"
  }
 },
 "nbformat": 4,
 "nbformat_minor": 2
}
